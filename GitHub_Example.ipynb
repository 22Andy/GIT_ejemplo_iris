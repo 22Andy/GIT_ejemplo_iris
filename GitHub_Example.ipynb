{
  "nbformat": 4,
  "nbformat_minor": 0,
  "metadata": {
    "colab": {
      "name": "GitHub_Example.ipynb",
      "provenance": [],
      "collapsed_sections": [],
      "authorship_tag": "ABX9TyNihABOheXoUwPjMrIZsTye",
      "include_colab_link": true
    },
    "kernelspec": {
      "name": "python3",
      "display_name": "Python 3"
    },
    "language_info": {
      "name": "python"
    }
  },
  "cells": [
    {
      "cell_type": "markdown",
      "metadata": {
        "id": "view-in-github",
        "colab_type": "text"
      },
      "source": [
        "<a href=\"https://colab.research.google.com/github/drodriguezcimat/GIT_ejemplo_iris/blob/main/GitHub_Example.ipynb\" target=\"_parent\"><img src=\"https://colab.research.google.com/assets/colab-badge.svg\" alt=\"Open In Colab\"/></a>"
      ]
    },
    {
      "cell_type": "markdown",
      "source": [
        "### Ejemplo de uso de Git en Google Colab"
      ],
      "metadata": {
        "id": "_pmTuQDX4uiG"
      }
    },
    {
      "cell_type": "code",
      "source": [
        "print(\"HOla2\")"
      ],
      "metadata": {
        "id": "znc2lArE8BiD",
        "outputId": "b6e11d95-193e-42ed-e57e-530ab8530411",
        "colab": {
          "base_uri": "https://localhost:8080/"
        }
      },
      "execution_count": 5,
      "outputs": [
        {
          "output_type": "stream",
          "name": "stdout",
          "text": [
            "HOla2\n"
          ]
        }
      ]
    },
    {
      "cell_type": "code",
      "source": [
        "print(\"Hola Mundo\")"
      ],
      "metadata": {
        "colab": {
          "base_uri": "https://localhost:8080/"
        },
        "id": "0yn_Jl3E40L3",
        "outputId": "f1cc6cbb-747b-4910-db67-7d06a6364ac0"
      },
      "execution_count": null,
      "outputs": [
        {
          "output_type": "stream",
          "name": "stdout",
          "text": [
            "Hola Mundo\n"
          ]
        }
      ]
    }
  ]
}